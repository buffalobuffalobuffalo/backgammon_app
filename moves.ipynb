{
 "cells": [
  {
   "cell_type": "markdown",
   "id": "76369dd3-e548-4d97-b992-dd95c927914d",
   "metadata": {},
   "source": [
    "## Explore Board Representations"
   ]
  },
  {
   "cell_type": "code",
   "execution_count": 1,
   "id": "956e4dbd-9ee8-47d1-a96b-153d5f13f00a",
   "metadata": {},
   "outputs": [],
   "source": [
    "import numpy as np\n",
    "import backgammon as bg"
   ]
  },
  {
   "cell_type": "markdown",
   "id": "99d2f317-ef0f-4b12-86ab-675048c07d1e",
   "metadata": {},
   "source": [
    "## Ideas\n",
    "* cribbing this from [pgx](https://github.com/sotetsuk/pgx/blob/main/docs/backgammon.md)\n",
    "* there are 24 points, you represent pieces by 1 for white and -1 for black\n",
    "* you add to the point you move to, you subtract to the point you take away\n",
    "* you evaluate legal moves by checking to see that >= -1 for white, <= 1 for black\n",
    "* say white goes 0-23, black goes 23-0"
   ]
  },
  {
   "cell_type": "code",
   "execution_count": 2,
   "id": "3718de9d-59bb-4ca7-b779-5eed9d05e4e7",
   "metadata": {},
   "outputs": [],
   "source": [
    "board = np.zeros([1,24],dtype=int)"
   ]
  },
  {
   "cell_type": "code",
   "execution_count": 3,
   "id": "9eda1518-873f-4a9d-8aa2-101637e7b0e6",
   "metadata": {},
   "outputs": [
    {
     "data": {
      "text/plain": [
       "array([[0, 0, 0, 0, 0, 0, 0, 0, 0, 0, 0, 0, 0, 0, 0, 0, 0, 0, 0, 0, 0, 0,\n",
       "        0, 0]])"
      ]
     },
     "execution_count": 3,
     "metadata": {},
     "output_type": "execute_result"
    }
   ],
   "source": [
    "board"
   ]
  },
  {
   "cell_type": "code",
   "execution_count": 4,
   "id": "35450aed-f853-40de-b449-059e1bfda17b",
   "metadata": {},
   "outputs": [
    {
     "data": {
      "text/plain": [
       "array([[0, 0, 0, 0, 0, 0],\n",
       "       [0, 0, 0, 0, 0, 0],\n",
       "       [0, 0, 0, 0, 0, 0],\n",
       "       [0, 0, 0, 0, 0, 0]])"
      ]
     },
     "execution_count": 4,
     "metadata": {},
     "output_type": "execute_result"
    }
   ],
   "source": [
    "board.reshape([4,6])"
   ]
  },
  {
   "cell_type": "code",
   "execution_count": 5,
   "id": "2c9e0346-ade4-4fca-b638-6aa0305a1275",
   "metadata": {},
   "outputs": [],
   "source": [
    "initial_board = bg.create_initial_board()"
   ]
  },
  {
   "cell_type": "code",
   "execution_count": 6,
   "id": "09ce2be9-f7d3-4b56-ba0c-2e76888f939b",
   "metadata": {},
   "outputs": [
    {
     "data": {
      "text/plain": [
       "array([ 2,  0,  0,  0,  0, -5,  0, -3,  0,  0,  0,  5, -5,  0,  0,  0,  3,\n",
       "        0,  5,  0,  0,  0,  0, -2])"
      ]
     },
     "execution_count": 6,
     "metadata": {},
     "output_type": "execute_result"
    }
   ],
   "source": [
    "initial_board"
   ]
  },
  {
   "cell_type": "code",
   "execution_count": 7,
   "id": "76f1c05b-5a67-414c-bba5-7600213c2f0a",
   "metadata": {},
   "outputs": [
    {
     "data": {
      "text/plain": [
       "array([2, 3])"
      ]
     },
     "execution_count": 7,
     "metadata": {},
     "output_type": "execute_result"
    }
   ],
   "source": [
    "test_roll = bg.roll()\n",
    "test_roll"
   ]
  },
  {
   "cell_type": "markdown",
   "id": "237eb553-2c69-4b5b-95b8-a41caebd0c4f",
   "metadata": {},
   "source": [
    "## Translate a 24 value numpy array into a visualized board state "
   ]
  },
  {
   "cell_type": "code",
   "execution_count": 8,
   "id": "88c35f3d-3b81-4fd6-b1de-bd01df5b46ab",
   "metadata": {},
   "outputs": [
    {
     "name": "stdout",
     "output_type": "stream",
     "text": [
      "\n",
      "     |---------------------|\n",
      "  12 |XXXXX     |     OOOOO|13\n",
      "  11 |          |          |14\n",
      "  10 |          |          |15\n",
      "   9 |          |          |16\n",
      "   8 |OOO       |       XXX|17\n",
      "   7 |          |          |18\n",
      "     |---------------------|\n",
      "     |---------------------|\n",
      "   6 |OOOOO     |     XXXXX|19\n",
      "   5 |          |          |20\n",
      "   4 |          |          |21\n",
      "   3 |          |          |22\n",
      "   2 |          |          |23\n",
      "   1 |XX        |        OO|24\n",
      "     |---------------------|\n",
      "\n",
      "    X remaining pips : 152\n",
      "    O remaining pips : 152\n",
      "    \n"
     ]
    }
   ],
   "source": [
    "bg.draw_board(initial_board)"
   ]
  },
  {
   "cell_type": "markdown",
   "id": "b0d5c4c8-202b-462a-886d-7278ed271669",
   "metadata": {},
   "source": [
    "## Try rolling 3/1 from the initial board"
   ]
  },
  {
   "cell_type": "code",
   "execution_count": 9,
   "id": "9d3c5f5f-e9b1-4557-9c6c-434947c8c702",
   "metadata": {},
   "outputs": [],
   "source": [
    "initial_board = bg.create_initial_board()\n",
    "new_position = bg.move(position=initial_board, \n",
    "                    roll=[1,3], \n",
    "                    move='6/5 8/5', \n",
    "                    pieces='x')"
   ]
  },
  {
   "cell_type": "code",
   "execution_count": 10,
   "id": "fdbad58c-92c5-41e8-92c8-970cf39aedec",
   "metadata": {},
   "outputs": [
    {
     "name": "stdout",
     "output_type": "stream",
     "text": [
      "\n",
      "     |---------------------|\n",
      "  12 |XXXXX     |     OOOOO|13\n",
      "  11 |          |          |14\n",
      "  10 |          |          |15\n",
      "   9 |          |          |16\n",
      "   8 |OOO       |        XX|17\n",
      "   7 |          |          |18\n",
      "     |---------------------|\n",
      "     |---------------------|\n",
      "   6 |OOOOO     |      XXXX|19\n",
      "   5 |          |        XX|20\n",
      "   4 |          |          |21\n",
      "   3 |          |          |22\n",
      "   2 |          |          |23\n",
      "   1 |XX        |        OO|24\n",
      "     |---------------------|\n",
      "\n",
      "    X remaining pips : 148\n",
      "    O remaining pips : 152\n",
      "    \n"
     ]
    }
   ],
   "source": [
    "bg.draw_board(new_position)"
   ]
  },
  {
   "cell_type": "code",
   "execution_count": 11,
   "id": "bf3b5777-b427-4374-84ec-9efa66f3558f",
   "metadata": {},
   "outputs": [],
   "source": [
    "new_position2 = bg.move(position=new_position, \n",
    "                    roll=[4,2], \n",
    "                    move='8/4 6/4', \n",
    "                    pieces='o')"
   ]
  },
  {
   "cell_type": "code",
   "execution_count": 12,
   "id": "d5b191d8-b6d1-4e5c-a911-8e150bd4cdea",
   "metadata": {},
   "outputs": [
    {
     "name": "stdout",
     "output_type": "stream",
     "text": [
      "\n",
      "     |---------------------|\n",
      "  12 |XXXXX     |     OOOOO|13\n",
      "  11 |          |          |14\n",
      "  10 |          |          |15\n",
      "   9 |          |          |16\n",
      "   8 |OO        |        XX|17\n",
      "   7 |          |          |18\n",
      "     |---------------------|\n",
      "     |---------------------|\n",
      "   6 |OOOO      |      XXXX|19\n",
      "   5 |          |        XX|20\n",
      "   4 |OO        |          |21\n",
      "   3 |          |          |22\n",
      "   2 |          |          |23\n",
      "   1 |XX        |        OO|24\n",
      "     |---------------------|\n",
      "\n",
      "    X remaining pips : 148\n",
      "    O remaining pips : 146\n",
      "    \n"
     ]
    }
   ],
   "source": [
    "bg.draw_board(new_position2)"
   ]
  },
  {
   "cell_type": "code",
   "execution_count": 13,
   "id": "d59fa671-09c3-4a10-8902-afb354000084",
   "metadata": {},
   "outputs": [
    {
     "name": "stdout",
     "output_type": "stream",
     "text": [
      "This is not a legal move\n"
     ]
    }
   ],
   "source": [
    "new_position_3 = bg.move(position=new_position2, \n",
    "                    roll=[5,6], \n",
    "                    move='24/13', \n",
    "                    pieces='x') "
   ]
  },
  {
   "cell_type": "markdown",
   "id": "6f575a8c-9dcb-434c-b025-716240ff60ff",
   "metadata": {},
   "source": [
    "## :-("
   ]
  },
  {
   "cell_type": "markdown",
   "id": "19a2fa60-670e-43ab-a227-88093b6206e2",
   "metadata": {},
   "source": [
    "## TODO\n",
    "- somehow initial board gets updated during this process as well\n",
    "- doesnt properly handle moving the same piece twice\n",
    "- [X] add the ability to do that\n",
    "- [X] add the ability to write the above like '24/13'"
   ]
  },
  {
   "cell_type": "markdown",
   "id": "14c5aff0-e1b7-4148-a435-b88d5246dc8c",
   "metadata": {},
   "source": [
    "## Next up\n",
    "- [ ] add bar\n",
    "- [ ] add hitting\n",
    "- [ ] add bearing off\n",
    "- [ ] refactor the game state into a class"
   ]
  },
  {
   "cell_type": "code",
   "execution_count": 14,
   "id": "b1d25028-0910-423b-8a7d-93218d5bc263",
   "metadata": {},
   "outputs": [],
   "source": [
    "class Backgammon:\n",
    "        \n",
    "    def __init__(self):\n",
    "        self.position = bg.create_initial_board()\n",
    "        self.bar = []\n",
    "\n",
    "    def roll(self):\n",
    "        return np.random.randint(low=1, high=6, size=2)\n",
    "    \n",
    "    def create_checkers(self, position):\n",
    "        drawn_points = []\n",
    "        for point in position[:12]:\n",
    "            if point == 0:\n",
    "                drawn_point = 10 * ' '\n",
    "            if point >= 0:\n",
    "                drawn_point = 'X' * point + (10 - point) * ' '\n",
    "            if point < 0:\n",
    "                drawn_point = 'O' * abs(point) + (10 + point) * ' '\n",
    "            drawn_points.append(drawn_point)\n",
    "        for point in position[12:]:\n",
    "            if point == 0:\n",
    "                drawn_point = 10 * ' '\n",
    "            if point >= 0:\n",
    "                drawn_point = (10 - point) * ' ' + 'X' * point \n",
    "            if point < 0:\n",
    "                drawn_point = (10 + point) * ' ' + 'O' * abs(point)  \n",
    "            drawn_points.append(drawn_point)\n",
    "        return drawn_points\n",
    "\n",
    "    def calculate_remaining_pips(self, position):\n",
    "        x_pips = o_pips = 0\n",
    "        for i, point in enumerate(position):\n",
    "            if point > 0:\n",
    "                dist = 23 - i\n",
    "                x_pips += point * dist\n",
    "            if point < 0:\n",
    "                dist = i\n",
    "                o_pips += point * dist * -1\n",
    "        return x_pips, o_pips\n",
    "\n",
    "    def draw_board(self, position):\n",
    "        drawn_position = create_checkers(position) \n",
    "        x_pips, o_pips = calculate_remaining_pips(position)\n",
    "        \n",
    "        print(f'''\n",
    "         |---------------------|\n",
    "      12 |{drawn_position[11]}|{drawn_position[12]}|13\n",
    "      11 |{drawn_position[10]}|{drawn_position[13]}|14\n",
    "      10 |{drawn_position[9]}|{drawn_position[14]}|15\n",
    "       9 |{drawn_position[8]}|{drawn_position[15]}|16\n",
    "       8 |{drawn_position[7]}|{drawn_position[16]}|17\n",
    "       7 |{drawn_position[6]}|{drawn_position[17]}|18\n",
    "         |---------------------|\n",
    "         |---------------------|\n",
    "       6 |{drawn_position[5]}|{drawn_position[18]}|19\n",
    "       5 |{drawn_position[4]}|{drawn_position[19]}|20\n",
    "       4 |{drawn_position[3]}|{drawn_position[20]}|21\n",
    "       3 |{drawn_position[2]}|{drawn_position[21]}|22\n",
    "       2 |{drawn_position[1]}|{drawn_position[22]}|23\n",
    "       1 |{drawn_position[0]}|{drawn_position[23]}|24\n",
    "         |---------------------|\n",
    "    \n",
    "        X remaining pips : {x_pips}\n",
    "        O remaining pips : {o_pips}\n",
    "        ''')\n",
    "\n",
    "        \n",
    "    def parse_move(self, move, roll):\n",
    "        checks_moved = move.count('/')\n",
    "    \n",
    "        if checks_moved == 2:\n",
    "            first_move = move.split(' ')[0]\n",
    "            second_move = move.split(' ')[1]\n",
    "            \n",
    "            first_start = int(first_move.split('/')[0])\n",
    "            first_end = int(first_move.split('/')[1])\n",
    "            second_start = int(second_move.split('/')[0])\n",
    "            second_end = int(second_move.split('/')[1])\n",
    "            #check if it fits the roll\n",
    "            diff1= abs(first_end - first_start)\n",
    "            diff2= abs(second_end - second_start)\n",
    "            if sorted(list(roll)) != sorted([diff1, diff2]):\n",
    "                print('This is not a legal move because of dice')\n",
    "                return\n",
    "        else:\n",
    "            first_start = int(move.split('/')[0])\n",
    "            second_end = int(move.split('/')[1])\n",
    "            diff = first_start - second_end\n",
    "            first_end = second_start = first_start - roll[0]\n",
    "            \n",
    "            if sum(roll) != diff:\n",
    "                print('This is not a legal move because of dice')\n",
    "                return           \n",
    "        #this will fail if you can move a piece 3 and then 5, but not 5 and then 3    \n",
    "        return [first_start, first_end, second_start, second_end]\n",
    "    \n",
    "    def adjust_board_for_move(self, position, pieces, bar=[]):\n",
    "        'ensure pieces always go down in indices and up in checkers'\n",
    "        if pieces not in (['x','o']):\n",
    "            print('Not a legal position')\n",
    "            return\n",
    "            \n",
    "        if pieces == 'x':\n",
    "            return np.flip(position)\n",
    "        if pieces == 'o':\n",
    "            return position * -1\n",
    "        \n",
    "    def update_board(self, move,position,pieces='x', bar=[]):\n",
    "        #initialize board orientation\n",
    "        adjust_board_for_move(position, pieces)\n",
    "    \n",
    "        #decrement the places you're moving from\n",
    "        position[move[0]] -= 1\n",
    "        position[move[2]] -= 1\n",
    "    \n",
    "        for new_pos in [move[1], move[3]]:\n",
    "            # when you hit on a loose checker\n",
    "            if position[new_pos] == -1:\n",
    "                position[new_pos] = 1\n",
    "                bar.append('o') if pieces == 'x' else bar.append('x') \n",
    "            #otherwise\n",
    "            else:\n",
    "                position[new_pos] += 1\n",
    "    \n",
    "        # return board orientation to original position\n",
    "        adjust_board_for_move(position, pieces)\n",
    "    \n",
    "        return position\n",
    "        \n",
    "    def move(self, position, roll, move, pieces='x'):\n",
    "        \n",
    "        move = parse_move(move,roll)\n",
    "            \n",
    "        #adjust values for indices\n",
    "        move = [x-1 for x in move]\n",
    "        position = adjust_board_for_move(position, pieces)\n",
    "    \n",
    "        #check where you have checkers and where you can move them\n",
    "        legal_starts = np.where(position > 0)[0]\n",
    "        open_spaces = np.where(position >= -1)[0]\n",
    "        # print(f'legal starts : {legal_starts}')\n",
    "        # print(set([move[1],move[3]]))\n",
    "        # print(f'open spaces : {open_spaces}')\n",
    "        # print(set([move[0],move[2]]))\n",
    "    \n",
    "        # confirm these match\n",
    "        if (set([move[0],move[2]]).issubset(legal_starts)) & set([move[1],move[3]]).issubset(open_spaces):\n",
    "            new_position = update_board(move,position,pieces)\n",
    "            # return board orientation to original position\n",
    "            new_position = adjust_board_for_move(new_position, pieces)\n",
    "            return new_position\n",
    "        else:\n",
    "            print('This is not a legal move')\n",
    "            return\n",
    "    \n",
    "    def play(self):\n",
    "        for turn in range(3): \n",
    "            self.draw_board(self.position)\n",
    "            roll = self.roll()\n",
    "            print(\"Roll:\", roll)\n",
    "            move = input(\"Enter your move: \")\n",
    "            self.position = self.move(self.position, roll, move)\n",
    "            self.draw_board(self.position)\n",
    "            # Need to add evaluation for game_over\n"
   ]
  },
  {
   "cell_type": "code",
   "execution_count": 15,
   "id": "e91fe786-3dbd-41b3-b34b-964ad2c2beaf",
   "metadata": {},
   "outputs": [],
   "source": [
    "game = Backgammon()"
   ]
  }
 ],
 "metadata": {
  "kernelspec": {
   "display_name": "Python 3 (ipykernel)",
   "language": "python",
   "name": "python3"
  },
  "language_info": {
   "codemirror_mode": {
    "name": "ipython",
    "version": 3
   },
   "file_extension": ".py",
   "mimetype": "text/x-python",
   "name": "python",
   "nbconvert_exporter": "python",
   "pygments_lexer": "ipython3",
   "version": "3.8.10"
  }
 },
 "nbformat": 4,
 "nbformat_minor": 5
}
