{
 "cells": [
  {
   "cell_type": "markdown",
   "id": "76369dd3-e548-4d97-b992-dd95c927914d",
   "metadata": {},
   "source": [
    "## Explore Board Representations"
   ]
  },
  {
   "cell_type": "code",
   "execution_count": 1,
   "id": "956e4dbd-9ee8-47d1-a96b-153d5f13f00a",
   "metadata": {},
   "outputs": [],
   "source": [
    "import numpy as np"
   ]
  },
  {
   "cell_type": "markdown",
   "id": "99d2f317-ef0f-4b12-86ab-675048c07d1e",
   "metadata": {},
   "source": [
    "## Ideas\n",
    "* cribbing this from [pgx](https://github.com/sotetsuk/pgx/blob/main/docs/backgammon.md)\n",
    "* there are 24 points, you represent pieces by 1 for white and -1 for black\n",
    "* you add to the point you move to, you subtract to the point you take away\n",
    "* you evaluate legal moves by checking to see that >= -1 for white, <= 1 for black\n",
    "* say white goes 0-23, black goes 23-0"
   ]
  },
  {
   "cell_type": "code",
   "execution_count": 2,
   "id": "3718de9d-59bb-4ca7-b779-5eed9d05e4e7",
   "metadata": {},
   "outputs": [],
   "source": [
    "board = np.zeros([1,24],dtype=int)"
   ]
  },
  {
   "cell_type": "code",
   "execution_count": 3,
   "id": "9eda1518-873f-4a9d-8aa2-101637e7b0e6",
   "metadata": {},
   "outputs": [
    {
     "data": {
      "text/plain": [
       "array([[0, 0, 0, 0, 0, 0, 0, 0, 0, 0, 0, 0, 0, 0, 0, 0, 0, 0, 0, 0, 0, 0,\n",
       "        0, 0]])"
      ]
     },
     "execution_count": 3,
     "metadata": {},
     "output_type": "execute_result"
    }
   ],
   "source": [
    "board"
   ]
  },
  {
   "cell_type": "code",
   "execution_count": 4,
   "id": "35450aed-f853-40de-b449-059e1bfda17b",
   "metadata": {},
   "outputs": [
    {
     "data": {
      "text/plain": [
       "array([[0, 0, 0, 0, 0, 0],\n",
       "       [0, 0, 0, 0, 0, 0],\n",
       "       [0, 0, 0, 0, 0, 0],\n",
       "       [0, 0, 0, 0, 0, 0]])"
      ]
     },
     "execution_count": 4,
     "metadata": {},
     "output_type": "execute_result"
    }
   ],
   "source": [
    "board.reshape([4,6])"
   ]
  },
  {
   "cell_type": "code",
   "execution_count": 5,
   "id": "c3da9b3f-bc5e-4523-af37-05ec4434c160",
   "metadata": {},
   "outputs": [],
   "source": [
    "def create_initial_board():\n",
    "    'intialize a board array with the starting positions of all checkers'\n",
    "    initial_board = np.array([2, 0, 0, 0, 0, -5,\n",
    "                       0, -3, 0, 0, 0, 5,\n",
    "                       -5, 0, 0, 0, 3, 0,\n",
    "                       5, 0, 0, 0, 0, -2])\n",
    "    return initial_board\n",
    "\n",
    "def roll():\n",
    "    return np.random.randint(low=1, high=6, size=2)"
   ]
  },
  {
   "cell_type": "code",
   "execution_count": 6,
   "id": "2c9e0346-ade4-4fca-b638-6aa0305a1275",
   "metadata": {},
   "outputs": [],
   "source": [
    "initial_board = create_initial_board()"
   ]
  },
  {
   "cell_type": "code",
   "execution_count": 7,
   "id": "09ce2be9-f7d3-4b56-ba0c-2e76888f939b",
   "metadata": {},
   "outputs": [
    {
     "data": {
      "text/plain": [
       "array([ 2,  0,  0,  0,  0, -5,  0, -3,  0,  0,  0,  5, -5,  0,  0,  0,  3,\n",
       "        0,  5,  0,  0,  0,  0, -2])"
      ]
     },
     "execution_count": 7,
     "metadata": {},
     "output_type": "execute_result"
    }
   ],
   "source": [
    "initial_board"
   ]
  },
  {
   "cell_type": "code",
   "execution_count": 8,
   "id": "76f1c05b-5a67-414c-bba5-7600213c2f0a",
   "metadata": {},
   "outputs": [
    {
     "data": {
      "text/plain": [
       "array([3, 4])"
      ]
     },
     "execution_count": 8,
     "metadata": {},
     "output_type": "execute_result"
    }
   ],
   "source": [
    "test_roll = roll()\n",
    "test_roll"
   ]
  },
  {
   "cell_type": "markdown",
   "id": "237eb553-2c69-4b5b-95b8-a41caebd0c4f",
   "metadata": {},
   "source": [
    "## Translate a 24 value numpy array into a visualized board state "
   ]
  },
  {
   "cell_type": "code",
   "execution_count": 9,
   "id": "1c053a4b-20d8-47c5-afca-5397b312a152",
   "metadata": {},
   "outputs": [],
   "source": [
    "def create_checkers(position):\n",
    "    drawn_points = []\n",
    "    for point in position[:12]:\n",
    "        if point == 0:\n",
    "            drawn_point = 10 * ' '\n",
    "        if point >= 0:\n",
    "            drawn_point = 'X' * point + (10 - point) * ' '\n",
    "        if point < 0:\n",
    "            drawn_point = 'O' * abs(point) + (10 + point) * ' '\n",
    "        drawn_points.append(drawn_point)\n",
    "    for point in position[12:]:\n",
    "        if point == 0:\n",
    "            drawn_point = 10 * ' '\n",
    "        if point >= 0:\n",
    "            drawn_point = (10 - point) * ' ' + 'X' * point \n",
    "        if point < 0:\n",
    "            drawn_point = (10 + point) * ' ' + 'O' * abs(point)  \n",
    "        drawn_points.append(drawn_point)\n",
    "    return drawn_points\n",
    "\n",
    "def calculate_remaining_pips(position):\n",
    "    x_pips = o_pips = 0\n",
    "    for i, point in enumerate(position):\n",
    "        if point > 0:\n",
    "            dist = 23 - i\n",
    "            x_pips += point * dist\n",
    "        if point < 0:\n",
    "            dist = i\n",
    "            o_pips += point * dist * -1\n",
    "    return x_pips, o_pips\n",
    "    \n",
    "def draw_board(position):\n",
    "    drawn_position = create_checkers(position) \n",
    "    x_pips, o_pips = calculate_remaining_pips(position)\n",
    "    \n",
    "    print(f'''\n",
    "     |---------------------|\n",
    "  12 |{drawn_position[11]}|{drawn_position[12]}|13\n",
    "  11 |{drawn_position[10]}|{drawn_position[13]}|14\n",
    "  10 |{drawn_position[9]}|{drawn_position[14]}|15\n",
    "   9 |{drawn_position[8]}|{drawn_position[15]}|16\n",
    "   8 |{drawn_position[7]}|{drawn_position[16]}|17\n",
    "   7 |{drawn_position[6]}|{drawn_position[17]}|18\n",
    "     |---------------------|\n",
    "     |---------------------|\n",
    "   6 |{drawn_position[5]}|{drawn_position[18]}|19\n",
    "   5 |{drawn_position[4]}|{drawn_position[19]}|20\n",
    "   4 |{drawn_position[3]}|{drawn_position[20]}|21\n",
    "   3 |{drawn_position[2]}|{drawn_position[21]}|22\n",
    "   2 |{drawn_position[1]}|{drawn_position[22]}|23\n",
    "   1 |{drawn_position[0]}|{drawn_position[23]}|24\n",
    "     |---------------------|\n",
    "\n",
    "    X remaining pips : {x_pips}\n",
    "    O remaining pips : {o_pips}\n",
    "    ''')"
   ]
  },
  {
   "cell_type": "code",
   "execution_count": 10,
   "id": "88c35f3d-3b81-4fd6-b1de-bd01df5b46ab",
   "metadata": {},
   "outputs": [
    {
     "name": "stdout",
     "output_type": "stream",
     "text": [
      "\n",
      "     |---------------------|\n",
      "  12 |XXXXX     |     OOOOO|13\n",
      "  11 |          |          |14\n",
      "  10 |          |          |15\n",
      "   9 |          |          |16\n",
      "   8 |OOO       |       XXX|17\n",
      "   7 |          |          |18\n",
      "     |---------------------|\n",
      "     |---------------------|\n",
      "   6 |OOOOO     |     XXXXX|19\n",
      "   5 |          |          |20\n",
      "   4 |          |          |21\n",
      "   3 |          |          |22\n",
      "   2 |          |          |23\n",
      "   1 |XX        |        OO|24\n",
      "     |---------------------|\n",
      "\n",
      "    X remaining pips : 152\n",
      "    O remaining pips : 152\n",
      "    \n"
     ]
    }
   ],
   "source": [
    "draw_board(initial_board)"
   ]
  },
  {
   "cell_type": "markdown",
   "id": "b963e619-4b57-4cdc-8f93-efd62d9e333d",
   "metadata": {},
   "source": [
    "## TODO\n",
    "- [x] make function to update board from move\n",
    "- [x] make it work for both colors\n",
    "    * try to refactor it to be simpler, it looks terrible\n",
    "- [x] make moves for both sides go down from 24 to 0\n",
    "    - perhaps invert the position and multiply all values by -1\n",
    "- [ ] update position function to handle hits\n",
    "- [ ] add in the bar"
   ]
  },
  {
   "cell_type": "code",
   "execution_count": 58,
   "id": "eb4dae67-0b7c-4668-87ad-079512ac93e9",
   "metadata": {},
   "outputs": [],
   "source": [
    "def parse_move(move):\n",
    "    first_move = move.split(' ')[0]\n",
    "    second_move = move.split(' ')[1]\n",
    "    \n",
    "    first_start = int(first_move.split('/')[0])\n",
    "    first_end = int(first_move.split('/')[1])\n",
    "    \n",
    "    second_start = int(second_move.split('/')[0])\n",
    "    second_end = int(second_move.split('/')[1])\n",
    "    \n",
    "    return [first_start, first_end, second_start, second_end]\n",
    "\n",
    "def adjust_board_for_move(position, pieces):\n",
    "    'ensure pieces always go down in indices and up in checkers'\n",
    "    if pieces not in (['x','o']):\n",
    "        print('Not a legal position')\n",
    "        return\n",
    "        \n",
    "    if pieces == 'x':\n",
    "        return np.flip(position)\n",
    "    if pieces == 'o':\n",
    "        return position * -1\n",
    "    \n",
    "def update_board(move,position,pieces='x'):\n",
    "    #initialize board orientation\n",
    "    adjust_board_for_move(position, pieces)\n",
    "\n",
    "    #decrement the places you're moving from\n",
    "    position[move[0]] -= 1\n",
    "    position[move[2]] -= 1\n",
    "\n",
    "    for new_pos in [move[1], move[3]]:\n",
    "        if position[new_pos] == -1:\n",
    "            position[new_pos]\n",
    "        else:\n",
    "            position[new_pos] += 1\n",
    "\n",
    "    # return board orientation to original position\n",
    "    adjust_board_for_move(position, pieces)\n",
    "\n",
    "    return position\n",
    "    \n",
    "def move(position, roll, move, pieces='x'):\n",
    "    \n",
    "    move = parse_move(move)\n",
    "    #check if it fits the roll\n",
    "    diff1= abs(move[1] - move[0])\n",
    "    diff2= abs(move[3] - move[2])\n",
    "    if sorted(list(roll)) != sorted([diff1, diff2]):\n",
    "        print('This is not a legal move because of dice')\n",
    "        return\n",
    "        \n",
    "    #adjust values for indices\n",
    "    move = [x-1 for x in move]\n",
    "    position = adjust_board_for_move(position, pieces)\n",
    "\n",
    "    #check where you have checkers and where you can move them\n",
    "    legal_starts = np.where(position > 0)[0]\n",
    "    open_spaces = np.where(position >= -1)[0]\n",
    "    # print(f'legal starts : {legal_starts}')\n",
    "    # print(set([move[1],move[3]]))\n",
    "    # print(f'open spaces : {open_spaces}')\n",
    "    # print(set([move[0],move[2]]))\n",
    "\n",
    "    # confirm these match\n",
    "    if (set([move[0],move[2]]).issubset(legal_starts)) & set([move[1],move[3]]).issubset(open_spaces):\n",
    "        new_position = update_board(move,position,pieces)\n",
    "        # return board orientation to original position\n",
    "        new_position = adjust_board_for_move(new_position, pieces)\n",
    "        return new_position\n",
    "    else:\n",
    "        print('This is not a legal move2')\n",
    "        return"
   ]
  },
  {
   "cell_type": "markdown",
   "id": "b0d5c4c8-202b-462a-886d-7278ed271669",
   "metadata": {},
   "source": [
    "## Try rolling 3/1 from the initial board"
   ]
  },
  {
   "cell_type": "code",
   "execution_count": 37,
   "id": "bafe9fca-12a4-40aa-9b11-739e09f4c029",
   "metadata": {},
   "outputs": [
    {
     "data": {
      "text/plain": [
       "array([ 2,  0,  0,  0,  0, -5,  0, -3,  0,  0,  0,  5, -5,  0,  0,  0,  2,\n",
       "        0,  4,  2,  0,  0,  0, -2])"
      ]
     },
     "execution_count": 37,
     "metadata": {},
     "output_type": "execute_result"
    }
   ],
   "source": [
    "initial_board"
   ]
  },
  {
   "cell_type": "code",
   "execution_count": 64,
   "id": "9d3c5f5f-e9b1-4557-9c6c-434947c8c702",
   "metadata": {},
   "outputs": [
    {
     "name": "stdout",
     "output_type": "stream",
     "text": [
      "[ 2  0  0  0  0 -5  0 -3  0  0  0  5 -5  0  0  0  3  0  5  0  0  0  0 -2]\n",
      "legal starts : [ 5  7 12 23]\n",
      "{4}\n",
      "open spaces : [ 1  2  3  4  5  6  7  8  9 10 12 13 14 15 17 19 20 21 22 23]\n",
      "{5, 7}\n"
     ]
    }
   ],
   "source": [
    "initial_board = create_initial_board()\n",
    "new_position = move(position=initial_board, \n",
    "                    roll=[1,3], \n",
    "                    move='6/5 8/5', \n",
    "                    pieces='x')"
   ]
  },
  {
   "cell_type": "code",
   "execution_count": 65,
   "id": "fdbad58c-92c5-41e8-92c8-970cf39aedec",
   "metadata": {},
   "outputs": [
    {
     "name": "stdout",
     "output_type": "stream",
     "text": [
      "\n",
      "     |---------------------|\n",
      "  12 |XXXXX     |     OOOOO|13\n",
      "  11 |          |          |14\n",
      "  10 |          |          |15\n",
      "   9 |          |          |16\n",
      "   8 |OOO       |        XX|17\n",
      "   7 |          |          |18\n",
      "     |---------------------|\n",
      "     |---------------------|\n",
      "   6 |OOOOO     |      XXXX|19\n",
      "   5 |          |        XX|20\n",
      "   4 |          |          |21\n",
      "   3 |          |          |22\n",
      "   2 |          |          |23\n",
      "   1 |XX        |        OO|24\n",
      "     |---------------------|\n",
      "\n",
      "    X remaining pips : 148\n",
      "    O remaining pips : 152\n",
      "    \n"
     ]
    }
   ],
   "source": [
    "draw_board(new_position)"
   ]
  },
  {
   "cell_type": "code",
   "execution_count": 66,
   "id": "bf3b5777-b427-4374-84ec-9efa66f3558f",
   "metadata": {},
   "outputs": [
    {
     "name": "stdout",
     "output_type": "stream",
     "text": [
      "[ 2  0  0  0  0 -5  0 -3  0  0  0  5 -5  0  0  0  2  0  4  2  0  0  0 -2]\n",
      "legal starts : [ 5  7 12 23]\n",
      "{3}\n",
      "open spaces : [ 1  2  3  4  5  6  7  8  9 10 12 13 14 15 17 20 21 22 23]\n",
      "{5, 7}\n"
     ]
    }
   ],
   "source": [
    "new_position2 = move(position=new_position, \n",
    "                    roll=[4,2], \n",
    "                    move='8/4 6/4', \n",
    "                    pieces='o')"
   ]
  },
  {
   "cell_type": "code",
   "execution_count": 67,
   "id": "d5b191d8-b6d1-4e5c-a911-8e150bd4cdea",
   "metadata": {},
   "outputs": [
    {
     "name": "stdout",
     "output_type": "stream",
     "text": [
      "\n",
      "     |---------------------|\n",
      "  12 |XXXXX     |     OOOOO|13\n",
      "  11 |          |          |14\n",
      "  10 |          |          |15\n",
      "   9 |          |          |16\n",
      "   8 |OO        |        XX|17\n",
      "   7 |          |          |18\n",
      "     |---------------------|\n",
      "     |---------------------|\n",
      "   6 |OOOO      |      XXXX|19\n",
      "   5 |          |        XX|20\n",
      "   4 |OO        |          |21\n",
      "   3 |          |          |22\n",
      "   2 |          |          |23\n",
      "   1 |XX        |        OO|24\n",
      "     |---------------------|\n",
      "\n",
      "    X remaining pips : 148\n",
      "    O remaining pips : 146\n",
      "    \n"
     ]
    }
   ],
   "source": [
    "draw_board(new_position2)"
   ]
  },
  {
   "cell_type": "markdown",
   "id": "19a2fa60-670e-43ab-a227-88093b6206e2",
   "metadata": {},
   "source": [
    "## TODO\n",
    "- somehow initial board gets updated during this process as well\n",
    "- doesnt properly handle moving the same piece twice\n",
    "- [ ] add the ability to do that\n",
    "- [ ] add the ability to write the above like '24/13'"
   ]
  }
 ],
 "metadata": {
  "kernelspec": {
   "display_name": "Python 3 (ipykernel)",
   "language": "python",
   "name": "python3"
  },
  "language_info": {
   "codemirror_mode": {
    "name": "ipython",
    "version": 3
   },
   "file_extension": ".py",
   "mimetype": "text/x-python",
   "name": "python",
   "nbconvert_exporter": "python",
   "pygments_lexer": "ipython3",
   "version": "3.8.10"
  }
 },
 "nbformat": 4,
 "nbformat_minor": 5
}
