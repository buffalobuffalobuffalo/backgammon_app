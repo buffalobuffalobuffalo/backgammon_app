{
 "cells": [
  {
   "cell_type": "markdown",
   "id": "76369dd3-e548-4d97-b992-dd95c927914d",
   "metadata": {},
   "source": [
    "## Explore Board Representations"
   ]
  },
  {
   "cell_type": "code",
   "execution_count": 1,
   "id": "956e4dbd-9ee8-47d1-a96b-153d5f13f00a",
   "metadata": {},
   "outputs": [],
   "source": [
    "import numpy as np"
   ]
  },
  {
   "cell_type": "markdown",
   "id": "99d2f317-ef0f-4b12-86ab-675048c07d1e",
   "metadata": {},
   "source": [
    "## Ideas\n",
    "* cribbing this from [pgx](https://github.com/sotetsuk/pgx/blob/main/docs/backgammon.md)\n",
    "* there are 24 points, you represent pieces by 1 for white and -1 for black\n",
    "* you add to the point you move to, you subtract to the point you take away\n",
    "* you evaluate legal moves by checking to see that >= -1 for white, <= 1 for black\n",
    "* say white goes 0-23, black goes 23-0"
   ]
  },
  {
   "cell_type": "code",
   "execution_count": 5,
   "id": "3718de9d-59bb-4ca7-b779-5eed9d05e4e7",
   "metadata": {},
   "outputs": [],
   "source": [
    "board = np.zeros([1,24])"
   ]
  },
  {
   "cell_type": "code",
   "execution_count": 6,
   "id": "9eda1518-873f-4a9d-8aa2-101637e7b0e6",
   "metadata": {},
   "outputs": [
    {
     "data": {
      "text/plain": [
       "array([[0., 0., 0., 0., 0., 0., 0., 0., 0., 0., 0., 0., 0., 0., 0., 0.,\n",
       "        0., 0., 0., 0., 0., 0., 0., 0.]])"
      ]
     },
     "execution_count": 6,
     "metadata": {},
     "output_type": "execute_result"
    }
   ],
   "source": [
    "board"
   ]
  },
  {
   "cell_type": "code",
   "execution_count": 8,
   "id": "35450aed-f853-40de-b449-059e1bfda17b",
   "metadata": {},
   "outputs": [
    {
     "data": {
      "text/plain": [
       "array([[0., 0., 0., 0., 0., 0.],\n",
       "       [0., 0., 0., 0., 0., 0.],\n",
       "       [0., 0., 0., 0., 0., 0.],\n",
       "       [0., 0., 0., 0., 0., 0.]])"
      ]
     },
     "execution_count": 8,
     "metadata": {},
     "output_type": "execute_result"
    }
   ],
   "source": [
    "board.reshape([4,6])"
   ]
  },
  {
   "cell_type": "code",
   "execution_count": 10,
   "id": "c3da9b3f-bc5e-4523-af37-05ec4434c160",
   "metadata": {},
   "outputs": [],
   "source": [
    "initial_board = np.array([[2., 0., 0., 0., 0., -5.],\n",
    "                       [0., -3., 0., 0., 0., 5],\n",
    "                       [-5., 0., 0., 0., 3., 0.],\n",
    "                       [5., 0., 0., 0., 0., -2.]])"
   ]
  },
  {
   "cell_type": "code",
   "execution_count": 13,
   "id": "47a42fb2-b501-452d-a5cd-fc2f14cde690",
   "metadata": {},
   "outputs": [
    {
     "data": {
      "text/plain": [
       "array([[[ 2.,  0.,  0.,  0.,  0., -5.],\n",
       "        [ 0., -3.,  0.,  0.,  0.,  5.]],\n",
       "\n",
       "       [[-5.,  0.,  0.,  0.,  3.,  0.],\n",
       "        [ 5.,  0.,  0.,  0.,  0., -2.]]])"
      ]
     },
     "execution_count": 13,
     "metadata": {},
     "output_type": "execute_result"
    }
   ],
   "source": [
    "initial_board.reshape([2,2, 6])"
   ]
  },
  {
   "cell_type": "code",
   "execution_count": 22,
   "id": "e8043e1a-4541-41e8-beb2-1eba7a139097",
   "metadata": {},
   "outputs": [],
   "source": [
    "def roll():\n",
    "    return np.random.randint(low=1, high=6, size=2)"
   ]
  },
  {
   "cell_type": "code",
   "execution_count": 25,
   "id": "ab9a89e2-d59e-41fe-a0e0-9ce59c0d04b6",
   "metadata": {},
   "outputs": [
    {
     "data": {
      "text/plain": [
       "array([1, 3])"
      ]
     },
     "execution_count": 25,
     "metadata": {},
     "output_type": "execute_result"
    }
   ],
   "source": [
    "roll()"
   ]
  },
  {
   "cell_type": "code",
   "execution_count": 26,
   "id": "93f3a14d-880f-49d6-adcd-954d0a102051",
   "metadata": {},
   "outputs": [],
   "source": [
    "def evaluate_legal_moves(board, roll, color):\n",
    "    list_of_moves = []\n",
    "    # find indices with checkers\n",
    "    # find indices with 1 or fewer of opponents checkers\n",
    "    # find all possible legal moves for each index in first list to second list\n",
    "    # write these to the 6/5, 8/5 notation we understand (3,1 for first roll)\n",
    "    return list_of_moves"
   ]
  }
 ],
 "metadata": {
  "kernelspec": {
   "display_name": "Python 3 (ipykernel)",
   "language": "python",
   "name": "python3"
  },
  "language_info": {
   "codemirror_mode": {
    "name": "ipython",
    "version": 3
   },
   "file_extension": ".py",
   "mimetype": "text/x-python",
   "name": "python",
   "nbconvert_exporter": "python",
   "pygments_lexer": "ipython3",
   "version": "3.8.10"
  }
 },
 "nbformat": 4,
 "nbformat_minor": 5
}
